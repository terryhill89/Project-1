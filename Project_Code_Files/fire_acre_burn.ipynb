{
 "cells": [
  {
   "cell_type": "code",
   "execution_count": null,
   "metadata": {},
   "outputs": [],
   "source": [
    "# Dependencies\n",
    "import requests\n",
    "import json\n",
    "import os\n",
    "import pandas as pd\n",
    "import hvplot.pandas\n",
    "import pprint\n",
    "import cartopy.crs as ccrs\n",
    "# Load JSON\n",
    "filepath = os.path.join(\"Resources\", \"USDM.json\")\n",
    "with open(filepath) as jsonfile:\n",
    "    json_data = json.load(jsonfile)\n",
    "#json_data\n",
    "url = \"https://www.fire.ca.gov/umbraco/api/IncidentApi/List?\"\n",
    "incident_acres_burned = []\n",
    "incident_latitude = []\n",
    "incident_longitude = []\n",
    "incident_start_timestamp = []\n",
    "\n",
    "start_year = 2021\n",
    "end_year = 2022\n",
    "counter = start_year\n",
    "\n",
    "def json_find(year):\n",
    "    add = f\"year={year}&inactive=true\"\n",
    "    response = requests.get(url + add)\n",
    "    data = response.json()\n",
    "    return data\n",
    "\n",
    "def parse_data(year):\n",
    "    for response in range(len(year)):\n",
    "        incident = year[response]\n",
    "        AcresBurned = incident[\"AcresBurned\"]\n",
    "        latitude = incident[\"Latitude\"]\n",
    "        longitude = incident[\"Longitude\"]\n",
    "        timestamp = incident[\"Started\"]\n",
    "        if AcresBurned != None:\n",
    "            if (longitude <= -110) & (longitude >= -130):\n",
    "                if (latitude <= 43) & (latitude >= 32):\n",
    "                    incident_acres_burned.append(AcresBurned)\n",
    "                    incident_latitude.append(latitude)\n",
    "                    incident_longitude.append(longitude)\n",
    "                    incident_start_timestamp.append(timestamp)\n",
    "\n",
    "while counter <= end_year:\n",
    "    this_json = json_find(counter)\n",
    "    parse_data(this_json)\n",
    "    counter += 1\n",
    "test = pd.DataFrame(data={'Acres Burned': incident_acres_burned, 'Latitude': incident_latitude, \n",
    "                          'Longitude': incident_longitude, 'Incident Start': incident_start_timestamp})\n",
    "test.head()"
   ]
  },
  {
   "cell_type": "code",
   "execution_count": null,
   "metadata": {},
   "outputs": [],
   "source": [
    "add = f\"year=2022&inactive=true\"\n",
    "response = requests.get(url + add)\n",
    "data = response.json()\n",
    "pp = pprint.PrettyPrinter(indent=1)\n",
    "pp.pprint(data[0])"
   ]
  },
  {
   "cell_type": "code",
   "execution_count": null,
   "metadata": {},
   "outputs": [],
   "source": [
    "mean = test.mean()\n",
    "median = test.median()\n",
    "print(f'Mean: {mean}')\n",
    "print(f'Median: {median}')\n",
    "test['Acres Burned'].describe().astype('int64')"
   ]
  },
  {
   "cell_type": "code",
   "execution_count": null,
   "metadata": {},
   "outputs": [],
   "source": [
    "test['Latitude'].head()"
   ]
  },
  {
   "cell_type": "code",
   "execution_count": null,
   "metadata": {},
   "outputs": [],
   "source": [
    "test['Longitude'].head()"
   ]
  },
  {
   "cell_type": "code",
   "execution_count": null,
   "metadata": {},
   "outputs": [],
   "source": [
    "map_plot = test.hvplot.points(\n",
    "    \"Longitude\",\n",
    "    \"Latitude\",\n",
    "    geo = True,\n",
    "    tiles = \"OSM\",\n",
    "    hover_cols = \"Acres Burned\",\n",
    "    size = \"Acres Burned\",\n",
    "    frame_width = 3840,\n",
    "    frame_height = 2160,\n",
    "    scale = 0.05\n",
    ")"
   ]
  },
  {
   "cell_type": "code",
   "execution_count": null,
   "metadata": {},
   "outputs": [],
   "source": [
    "map_plot"
   ]
  },
  {
   "cell_type": "code",
   "execution_count": null,
   "metadata": {},
   "outputs": [],
   "source": []
  }
 ],
 "metadata": {
  "kernelspec": {
   "display_name": "gv",
   "language": "python",
   "name": "gv"
  },
  "language_info": {
   "codemirror_mode": {
    "name": "ipython",
    "version": 3
   },
   "file_extension": ".py",
   "mimetype": "text/x-python",
   "name": "python",
   "nbconvert_exporter": "python",
   "pygments_lexer": "ipython3",
   "version": "3.9.15"
  }
 },
 "nbformat": 4,
 "nbformat_minor": 2
}
